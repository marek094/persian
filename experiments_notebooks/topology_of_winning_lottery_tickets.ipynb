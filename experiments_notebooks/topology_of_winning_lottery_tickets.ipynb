{
 "cells": [
  {
   "cell_type": "code",
   "execution_count": 1,
   "metadata": {},
   "outputs": [],
   "source": [
    "# ! pip install networkx"
   ]
  },
  {
   "cell_type": "code",
   "execution_count": 2,
   "metadata": {},
   "outputs": [],
   "source": [
    "from pathlib import Path\n",
    "import numpy as np\n",
    "import pandas as pd\n",
    "import networkx\n",
    "import matplotlib.pyplot as plt\n",
    "import re"
   ]
  },
  {
   "cell_type": "code",
   "execution_count": 3,
   "metadata": {},
   "outputs": [],
   "source": [
    "zoo_folder = Path('/home/marek/pepr/Zoo/')"
   ]
  },
  {
   "cell_type": "code",
   "execution_count": 4,
   "metadata": {},
   "outputs": [
    {
     "name": "stdout",
     "output_type": "stream",
     "text": [
      "dgms\t\t      layout.csv   metrics.csv.gz\r\n",
      "dgms_s77_c4_n144.npy  LICENSE\t   README.md\r\n",
      "head100_weights.npy   metrics.csv  weights.npy\r\n"
     ]
    }
   ],
   "source": [
    "! ls {zoo_folder}/'cifar10'"
   ]
  },
  {
   "cell_type": "code",
   "execution_count": 5,
   "metadata": {},
   "outputs": [],
   "source": [
    "DS = 'cifar10'\n",
    "weights_path = zoo_folder.parent / 'Zoo_local' / 'weights.npy'; assert weights_path.exists()\n",
    "layout_path = zoo_folder / DS / 'layout.csv'; assert layout_path.exists()"
   ]
  },
  {
   "cell_type": "code",
   "execution_count": 6,
   "metadata": {},
   "outputs": [],
   "source": [
    "# B = networkx.Graph()\n",
    "# B.add_nodes_from([1,2,3,4], bipartite=0) # Add the node attribute \"bipartite\"\n",
    "# B.add_nodes_from(['abc','bcd','cef'], bipartite=1)\n",
    "# B.add_edges_from([(1,'abc'), (1,'bcd'), (2,'bcd'), (2,'cef'), (3,'cef'), (4,'abc')] )\n",
    "\n",
    "# top = networkx.bipartite.sets(B)[0]\n",
    "# pos = networkx.bipartite_layout(B, top)\n",
    "# networkx.draw(B, pos=pos, with_labels=True, node_color=['green','green','green','green','blue','blue','blue'])\n",
    "# plt.show()"
   ]
  },
  {
   "cell_type": "markdown",
   "metadata": {},
   "source": [
    "### Topology of the graph"
   ]
  },
  {
   "cell_type": "code",
   "execution_count": 7,
   "metadata": {},
   "outputs": [
    {
     "data": {
      "text/html": [
       "<div>\n",
       "<style scoped>\n",
       "    .dataframe tbody tr th:only-of-type {\n",
       "        vertical-align: middle;\n",
       "    }\n",
       "\n",
       "    .dataframe tbody tr th {\n",
       "        vertical-align: top;\n",
       "    }\n",
       "\n",
       "    .dataframe thead th {\n",
       "        text-align: right;\n",
       "    }\n",
       "</style>\n",
       "<table border=\"1\" class=\"dataframe\">\n",
       "  <thead>\n",
       "    <tr style=\"text-align: right;\">\n",
       "      <th></th>\n",
       "      <th>varname</th>\n",
       "      <th>start_idx</th>\n",
       "      <th>end_idx</th>\n",
       "      <th>size</th>\n",
       "      <th>shape</th>\n",
       "    </tr>\n",
       "  </thead>\n",
       "  <tbody>\n",
       "    <tr>\n",
       "      <th>0</th>\n",
       "      <td>sequential/conv2d/bias:0</td>\n",
       "      <td>0</td>\n",
       "      <td>16</td>\n",
       "      <td>16</td>\n",
       "      <td>(16,)</td>\n",
       "    </tr>\n",
       "    <tr>\n",
       "      <th>1</th>\n",
       "      <td>sequential/conv2d/kernel:0</td>\n",
       "      <td>16</td>\n",
       "      <td>160</td>\n",
       "      <td>144</td>\n",
       "      <td>(3, 3, 1, 16)</td>\n",
       "    </tr>\n",
       "    <tr>\n",
       "      <th>2</th>\n",
       "      <td>sequential/conv2d_1/bias:0</td>\n",
       "      <td>160</td>\n",
       "      <td>176</td>\n",
       "      <td>16</td>\n",
       "      <td>(16,)</td>\n",
       "    </tr>\n",
       "    <tr>\n",
       "      <th>3</th>\n",
       "      <td>sequential/conv2d_1/kernel:0</td>\n",
       "      <td>176</td>\n",
       "      <td>2480</td>\n",
       "      <td>2304</td>\n",
       "      <td>(3, 3, 16, 16)</td>\n",
       "    </tr>\n",
       "    <tr>\n",
       "      <th>4</th>\n",
       "      <td>sequential/conv2d_2/bias:0</td>\n",
       "      <td>2480</td>\n",
       "      <td>2496</td>\n",
       "      <td>16</td>\n",
       "      <td>(16,)</td>\n",
       "    </tr>\n",
       "    <tr>\n",
       "      <th>5</th>\n",
       "      <td>sequential/conv2d_2/kernel:0</td>\n",
       "      <td>2496</td>\n",
       "      <td>4800</td>\n",
       "      <td>2304</td>\n",
       "      <td>(3, 3, 16, 16)</td>\n",
       "    </tr>\n",
       "    <tr>\n",
       "      <th>6</th>\n",
       "      <td>sequential/dense/bias:0</td>\n",
       "      <td>4800</td>\n",
       "      <td>4810</td>\n",
       "      <td>10</td>\n",
       "      <td>(10,)</td>\n",
       "    </tr>\n",
       "    <tr>\n",
       "      <th>7</th>\n",
       "      <td>sequential/dense/kernel:0</td>\n",
       "      <td>4810</td>\n",
       "      <td>4970</td>\n",
       "      <td>160</td>\n",
       "      <td>(16, 10)</td>\n",
       "    </tr>\n",
       "  </tbody>\n",
       "</table>\n",
       "</div>"
      ],
      "text/plain": [
       "                        varname  start_idx  end_idx  size           shape\n",
       "0      sequential/conv2d/bias:0          0       16    16           (16,)\n",
       "1    sequential/conv2d/kernel:0         16      160   144   (3, 3, 1, 16)\n",
       "2    sequential/conv2d_1/bias:0        160      176    16           (16,)\n",
       "3  sequential/conv2d_1/kernel:0        176     2480  2304  (3, 3, 16, 16)\n",
       "4    sequential/conv2d_2/bias:0       2480     2496    16           (16,)\n",
       "5  sequential/conv2d_2/kernel:0       2496     4800  2304  (3, 3, 16, 16)\n",
       "6       sequential/dense/bias:0       4800     4810    10           (10,)\n",
       "7     sequential/dense/kernel:0       4810     4970   160        (16, 10)"
      ]
     },
     "execution_count": 7,
     "metadata": {},
     "output_type": "execute_result"
    }
   ],
   "source": [
    "lay = pd.read_csv(layout_path)\n",
    "lay"
   ]
  },
  {
   "cell_type": "code",
   "execution_count": 8,
   "metadata": {},
   "outputs": [],
   "source": [
    "metrics = pd.read_csv(layout_path.parent / f'metrics.csv')"
   ]
  },
  {
   "cell_type": "code",
   "execution_count": 9,
   "metadata": {},
   "outputs": [],
   "source": [
    "ws2 = np.load(weights_path)\n",
    "# ws = np.load(weights_path.parent / f'head100_{weights_path.name}')"
   ]
  },
  {
   "cell_type": "code",
   "execution_count": 10,
   "metadata": {},
   "outputs": [],
   "source": [
    "ws = ws2[8::9]"
   ]
  },
  {
   "cell_type": "code",
   "execution_count": 11,
   "metadata": {},
   "outputs": [
    {
     "data": {
      "text/plain": [
       "(30000, 4970)"
      ]
     },
     "execution_count": 11,
     "metadata": {},
     "output_type": "execute_result"
    }
   ],
   "source": [
    "ws.shape"
   ]
  },
  {
   "cell_type": "markdown",
   "metadata": {},
   "source": [
    "## Re-construct graph"
   ]
  },
  {
   "cell_type": "code",
   "execution_count": 12,
   "metadata": {
    "scrolled": false
   },
   "outputs": [],
   "source": [
    "inp_size = (32, 32)\n",
    "\n",
    "def make_layer_vertices(n_channels, stride=1):\n",
    "    return [ [[(h, w, c)\n",
    "     for c in range(n_channels)]\n",
    "     for h in range(inp_size[0]//stride)]\n",
    "     for w in range(inp_size[1]//stride)]\n",
    "\n",
    "def parse_shape(shape_str : str):\n",
    "    return [int(x)\n",
    "       for x in shape_str.strip(' )(').split(',')]\n",
    "\n",
    "vertices = []\n",
    "shapes = []\n",
    "ixs = []\n",
    "stride = 1\n",
    "for i, row in lay.iterrows():\n",
    "    if row.varname.endswith('kernel:0'):\n",
    "        shape = parse_shape(row['shape'])\n",
    "        shapes.append(shape)\n",
    "        ixs.append([row.start_idx, row.end_idx])\n",
    "        n_cs = shape[2] if len(shape) == 4 else shape[0]\n",
    "        vs = make_layer_vertices(n_cs, stride)\n",
    "        vertices.append(np.array(vs))\n",
    "        stride *= 2"
   ]
  },
  {
   "cell_type": "code",
   "execution_count": 13,
   "metadata": {},
   "outputs": [
    {
     "name": "stdout",
     "output_type": "stream",
     "text": [
      "(32, 32, 1)\n",
      "(16, 16, 16)\n",
      "(8, 8, 16)\n",
      "(4, 4, 16)\n"
     ]
    }
   ],
   "source": [
    "for vts in vertices:\n",
    "    print(vts.shape[:-1])"
   ]
  },
  {
   "cell_type": "markdown",
   "metadata": {},
   "source": [
    "### Construct edges (TODO)"
   ]
  },
  {
   "cell_type": "code",
   "execution_count": 14,
   "metadata": {},
   "outputs": [],
   "source": [
    "# def make_edges(l1, l2, weight, kernel=[[-1,0,1]]*2):\n",
    "#     \"\"\"return list of edges\"\"\"\n",
    "#     print(l1.shape, l2.shape)\n",
    "#     w1, h1, c1 = l1.shape[:3]\n",
    "#     w2, h2, c2 = l2.shape[:3]\n",
    "#     stride = w1//w2\n",
    "#     K = [len(k) for k in kernel]\n",
    "#     weight = np.reshape(weight, K+[c1, c2])\n",
    "    \n",
    "#     print(stride)\n",
    "    \n",
    "#     for w_ in range(w2):\n",
    "#         for h_ in range(h2):\n",
    "#             for c1_ in range(c1):\n",
    "#                 for c2_ in range(c2):\n",
    "                    \n",
    "\n",
    "    \n",
    "# make_edges(vertices[0], vertices[1], weight=ws[0][16:160])"
   ]
  },
  {
   "cell_type": "markdown",
   "metadata": {},
   "source": [
    "__Construct distance matrics from \"implicit weights\"__\n",
    "\n",
    "\n",
    "i-th layer is nerve complex of nbs in the (i+1)-th layer "
   ]
  },
  {
   "cell_type": "code",
   "execution_count": 15,
   "metadata": {},
   "outputs": [],
   "source": [
    "I = 8+9\n",
    "L = 1\n",
    "S = 2 # stride"
   ]
  },
  {
   "cell_type": "code",
   "execution_count": 16,
   "metadata": {},
   "outputs": [
    {
     "data": {
      "text/plain": [
       "Unnamed: 0                           /cns/ym-d/home/brain-ber/dnn_science/unterthin...\n",
       "config.activation                                                                 tanh\n",
       "config.b_init                                                                    zeros\n",
       "config.dataset                                                                 cifar10\n",
       "config.dnn_architecture                                                            cnn\n",
       "config.dropout                                                                0.450656\n",
       "config.epochs                                                                       86\n",
       "config.epochs_between_checkpoints                                                   20\n",
       "config.init_std                                                               0.002582\n",
       "config.l2reg                                                                  0.000015\n",
       "config.learning_rate                                                          0.001681\n",
       "config.num_layers                                                                    3\n",
       "config.num_units                                                                    16\n",
       "config.optimizer                                                                  adam\n",
       "config.random_seed                                                                   0\n",
       "config.train_fraction                                                              0.1\n",
       "config.w_init                                                             RandomNormal\n",
       "modeldir                             /cns/ym-d/home/brain-ber/dnn_science/unterthin...\n",
       "step                                                                                86\n",
       "test_accuracy                                                                   0.2749\n",
       "test_loss                                                                     1.996954\n",
       "train_accuracy                                                                0.277127\n",
       "train_loss                                                                    1.984243\n",
       "laststep                                                                          True\n",
       "Name: 17, dtype: object"
      ]
     },
     "execution_count": 16,
     "metadata": {},
     "output_type": "execute_result"
    }
   ],
   "source": [
    "metrics.iloc[I]"
   ]
  },
  {
   "cell_type": "code",
   "execution_count": 17,
   "metadata": {
    "scrolled": true
   },
   "outputs": [],
   "source": [
    "from itertools import product\n",
    "# def perprocess_kernel(weight, shape=shape):\n",
    "#     weight = weight.reshape(shape)\n",
    "#     weight = np.abs(weight)\n",
    "#     w, h, ci, co = shape\n",
    "#     kdist = np.zeros([w,h,ci, w,h,ci])\n",
    "#     for w1, h1, ci1 in product(range(w), range(h), range(ci)):\n",
    "#         for w2, h2, ci2 in product(range(w), range(h), range(ci)):\n",
    "#             v = np.minimum(weight[w1,h1,ci1,:], weight[w2,h2,ci2,:])\n",
    "# #             v = weight[w1,h1,ci1,:] + weight[w2,h2,ci2,:]\n",
    "#             v = np.amax(v, axis=0)\n",
    "#             kdist[w1,h1,ci1,w2,h2,ci2] = v\n",
    "#     return kdist\n",
    "    \n",
    "# pker = perprocess_kernel(weight=ws[I][ixs[L][0]:ixs[L][1]], shape=shapes[L])\n",
    "# pker.shape"
   ]
  },
  {
   "cell_type": "code",
   "execution_count": 18,
   "metadata": {
    "scrolled": false
   },
   "outputs": [],
   "source": [
    "# w,h,c = vertices[L].shape[:3]\n",
    "# w = 6\n",
    "# h = w\n",
    "# dist = np.zeros([w+2,h+2,c,w+2,h+2,c])\n",
    "# dist.shape\n",
    "\n",
    "# for i1 in range(0, h, S):\n",
    "#     for j1 in range(0, w, S):\n",
    "#         for i2 in range(0, h, S):\n",
    "#             for j2 in range(0, w, S):\n",
    "#                 d = dist[i1:i1+3, j1:j1+3, :, i2:i2+3, j2:j2+3, :]\n",
    "#                 v = np.maximum(d, pker)\n",
    "#                 dist[i1:i1+3, j1:j1+3, :, i2:i2+3, j2:j2+3, :] = v\n",
    "        \n",
    "# dist = dist[1:-1, 1:-1, :, 1:-1, 1:-1, :].reshape([w*h*c, w*h*c])\n",
    "# for i in range(w*h*c):\n",
    "#     dist[i,i] = 0.\n",
    "# dist.shape"
   ]
  },
  {
   "cell_type": "code",
   "execution_count": 19,
   "metadata": {},
   "outputs": [],
   "source": [
    "# np.max(dist), np.min(dist)"
   ]
  },
  {
   "cell_type": "code",
   "execution_count": 20,
   "metadata": {},
   "outputs": [],
   "source": [
    "# dist[0,0], dist[-1,-1]"
   ]
  },
  {
   "cell_type": "code",
   "execution_count": 21,
   "metadata": {
    "scrolled": true
   },
   "outputs": [],
   "source": [
    "# np.unique(dist)"
   ]
  },
  {
   "cell_type": "code",
   "execution_count": 22,
   "metadata": {
    "scrolled": true
   },
   "outputs": [],
   "source": [
    "# plt.imshow(dist[:,:,np.newaxis])"
   ]
  },
  {
   "cell_type": "code",
   "execution_count": 23,
   "metadata": {},
   "outputs": [],
   "source": [
    "from gtda.homology import VietorisRipsPersistence"
   ]
  },
  {
   "cell_type": "code",
   "execution_count": 24,
   "metadata": {
    "scrolled": true
   },
   "outputs": [],
   "source": [
    "# vrp = VietorisRipsPersistence(\n",
    "#     metric='precomputed', \n",
    "#     homology_dimensions=(0, 1, 2, 3))\n",
    "\n",
    "# r = vrp.fit_transform_plot([dist])[0]\n",
    "\n",
    "# np.unique(r, axis=0, return_counts=True)"
   ]
  },
  {
   "cell_type": "code",
   "execution_count": null,
   "metadata": {},
   "outputs": [],
   "source": []
  },
  {
   "cell_type": "code",
   "execution_count": 25,
   "metadata": {},
   "outputs": [],
   "source": [
    "def compute_dataset_dgms(I=0):\n",
    "    def perprocess_kernel(weight, shape=shape):\n",
    "        weight = weight.reshape(shape)\n",
    "        weight = np.abs(weight)\n",
    "        w, h, ci, co = shape\n",
    "        kdist = np.zeros([w,h,ci, w,h,ci])\n",
    "        for w1, h1, ci1 in product(range(w), range(h), range(ci)):\n",
    "            for w2, h2, ci2 in product(range(w), range(h), range(ci)):\n",
    "                v = np.minimum(weight[w1,h1,ci1,:], weight[w2,h2,ci2,:])\n",
    "    #             v = weight[w1,h1,ci1,:] + weight[w2,h2,ci2,:]\n",
    "                v = np.amax(v, axis=0)\n",
    "                kdist[w1,h1,ci1,w2,h2,ci2] = v\n",
    "        return kdist\n",
    "\n",
    "    pker = perprocess_kernel(weight=ws[I][ixs[L][0]:ixs[L][1]], shape=shapes[L])\n",
    "    \n",
    "    w,h,c = vertices[L].shape[:3]\n",
    "    w = 6\n",
    "    h = w\n",
    "    dist = np.zeros([w+2,h+2,c,w+2,h+2,c])\n",
    "\n",
    "    for i1 in range(0, h, S):\n",
    "        for j1 in range(0, w, S):\n",
    "            for i2 in range(0, h, S):\n",
    "                for j2 in range(0, w, S):\n",
    "                    d = dist[i1:i1+3, j1:j1+3, :, i2:i2+3, j2:j2+3, :]\n",
    "                    v = np.maximum(d, pker)\n",
    "                    dist[i1:i1+3, j1:j1+3, :, i2:i2+3, j2:j2+3, :] = v\n",
    "\n",
    "    dist = dist[1:-1, 1:-1, :, 1:-1, 1:-1, :].reshape([w*h*c, w*h*c])\n",
    "    for i in range(w*h*c):\n",
    "        dist[i,i] = 0.\n",
    "    \n",
    "    vrp = VietorisRipsPersistence(\n",
    "        n_jobs=1,\n",
    "        metric='precomputed', \n",
    "        homology_dimensions=(0, 1, 2)\n",
    "    )\n",
    "\n",
    "    r = vrp.fit_transform([dist])\n",
    "    return np.unique(r, axis=1, return_counts=True)\n",
    "\n",
    "# compute_dataset_dgms().shape"
   ]
  },
  {
   "cell_type": "code",
   "execution_count": 26,
   "metadata": {},
   "outputs": [],
   "source": [
    "from tqdm import tqdm\n",
    "from joblib import Parallel, delayed"
   ]
  },
  {
   "cell_type": "code",
   "execution_count": 27,
   "metadata": {},
   "outputs": [
    {
     "name": "stderr",
     "output_type": "stream",
     "text": [
      "100%|██████████| 30000/30000 [5:53:35<00:00,  1.41it/s]   \n"
     ]
    }
   ],
   "source": [
    "cached_path = Path(\"cifar10_wt_udgms_l01.npz\")\n",
    "if not cached_path.exists():\n",
    "    result = Parallel(n_jobs=5)(delayed(compute_dataset_dgms)(i) \n",
    "                   for i in tqdm(range(ws.shape[0])))\n",
    "\n",
    "\n",
    "    max_counts = np.max([len(r[1]) for r in result])\n",
    "\n",
    "    cnt = result[0][1]\n",
    "\n",
    "\n",
    "cnt_pad = np.pad(cnt, (0, max_counts-cnt.shape[0]), 'constant', constant_values=(0, 0))\n",
    "assert np.allclose(cnt_pad[:len(cnt)], cnt)\n",
    "cnt_pad.shape, cnt_pad.dtype\n",
    "\n",
    "udgms, counts = zip(*result)\n",
    "\n",
    "len(udgms), len(counts)\n",
    "\n",
    "max_n = np.max([len(c) for c in counts]) # same for udgms\n",
    "max_n\n",
    "\n",
    "counts_pad = [np.pad(cnt, (0, max_n-cnt.shape[0]), 'constant', constant_values=(0, 0)).astype(np.int32)\n",
    "              for cnt in counts]\n",
    "np.asarray(counts_pad).shape\n",
    "\n",
    "len(udgms[10][0])\n",
    "def pad_dgm(dgm, n):\n",
    "    sh = np.zeros([n, 3], dtype=np.float32)\n",
    "    sh[:len(dgm)] = dgm\n",
    "    return sh\n",
    "\n",
    "udgms_pad = [pad_dgm(dgm[0], max_n) for dgm in udgms]\n",
    "np.asarray(udgms_pad).shape\n",
    "\n",
    "np.savez_compressed(cached_path, udgms=udgms_pad, counts=counts_pad)\n",
    "\n",
    "udgms_pad = np.array(udgms_pad)\n",
    "counts_pad = np.array(counts_pad)"
   ]
  },
  {
   "cell_type": "code",
   "execution_count": 94,
   "metadata": {},
   "outputs": [
    {
     "data": {
      "text/plain": [
       "(30000, 3349, 3)"
      ]
     },
     "execution_count": 94,
     "metadata": {},
     "output_type": "execute_result"
    }
   ],
   "source": [
    "udgms_pad.shape"
   ]
  },
  {
   "cell_type": "code",
   "execution_count": 99,
   "metadata": {
    "scrolled": true
   },
   "outputs": [
    {
     "data": {
      "text/plain": [
       "(array([1.462e+03, 2.900e+02, 2.730e+02, ..., 0.000e+00, 0.000e+00,\n",
       "        1.000e+00]),\n",
       " array([5.77000000e+02, 9.53514700e+02, 1.33002940e+03, ...,\n",
       "        3.76497097e+06, 3.76534749e+06, 3.76572400e+06]),\n",
       " <BarContainer object of 10000 artists>)"
      ]
     },
     "execution_count": 99,
     "metadata": {},
     "output_type": "execute_result"
    },
    {
     "data": {
      "image/png": "[encoded data removed]",
      "text/plain": [
       "<Figure size 432x288 with 1 Axes>"
      ]
     },
     "metadata": {
      "needs_background": "light"
     },
     "output_type": "display_data"
    }
   ],
   "source": [
    "plt.hist([sum(c) for c in counts], bins=1000)"
   ]
  },
  {
   "cell_type": "code",
   "execution_count": 103,
   "metadata": {},
   "outputs": [
    {
     "data": {
      "text/plain": [
       "(array([1.000e+00, 2.000e+00, 1.000e+00, 1.000e+00, 1.000e+00, 0.000e+00,\n",
       "        1.000e+00, 2.000e+00, 0.000e+00, 1.000e+00, 5.000e+00, 3.000e+00,\n",
       "        3.000e+00, 2.000e+00, 2.000e+00, 1.000e+00, 0.000e+00, 3.000e+00,\n",
       "        3.000e+00, 1.000e+00, 1.000e+00, 2.000e+00, 1.000e+00, 3.000e+00,\n",
       "        4.000e+00, 5.000e+00, 7.000e+00, 1.000e+00, 2.000e+00, 4.000e+00,\n",
       "        5.000e+00, 3.000e+00, 4.000e+00, 2.000e+00, 4.000e+00, 5.000e+00,\n",
       "        4.000e+00, 2.000e+00, 4.000e+00, 5.000e+00, 8.000e+00, 0.000e+00,\n",
       "        4.000e+00, 7.000e+00, 7.000e+00, 3.000e+00, 7.000e+00, 9.000e+00,\n",
       "        7.000e+00, 8.000e+00, 5.000e+00, 8.000e+00, 1.000e+01, 6.000e+00,\n",
       "        7.000e+00, 4.000e+00, 5.000e+00, 5.000e+00, 5.000e+00, 1.300e+01,\n",
       "        1.700e+01, 1.000e+01, 2.000e+01, 2.000e+01, 2.500e+01, 2.700e+01,\n",
       "        2.000e+01, 2.300e+01, 2.800e+01, 2.700e+01, 1.800e+01, 2.100e+01,\n",
       "        2.000e+01, 2.100e+01, 1.300e+01, 2.900e+01, 1.300e+01, 2.500e+01,\n",
       "        1.800e+01, 1.800e+01, 2.700e+01, 3.400e+01, 3.600e+01, 4.600e+01,\n",
       "        3.577e+03, 5.600e+01, 5.100e+01, 2.200e+01, 2.500e+01, 2.100e+01,\n",
       "        3.100e+01, 2.000e+01, 2.000e+01, 2.500e+01, 2.700e+01, 1.400e+01,\n",
       "        2.100e+01, 2.000e+01, 1.800e+01, 2.300e+01, 2.000e+01, 1.400e+01,\n",
       "        1.100e+01, 1.300e+01, 2.200e+01, 2.000e+01, 1.700e+01, 2.200e+01,\n",
       "        1.700e+01, 1.600e+01, 9.000e+00, 1.400e+01, 1.400e+01, 1.500e+01,\n",
       "        1.400e+01, 1.600e+01, 2.400e+01, 2.300e+01, 1.200e+01, 1.800e+01,\n",
       "        1.200e+01, 7.000e+00, 2.100e+01, 1.100e+01, 1.300e+01, 1.900e+01,\n",
       "        8.000e+00, 1.300e+01, 1.600e+01, 1.700e+01, 1.400e+01, 7.000e+00,\n",
       "        1.600e+01, 1.400e+01, 1.600e+01, 1.000e+01, 1.500e+01, 1.000e+01,\n",
       "        1.500e+01, 1.800e+01, 1.600e+01, 9.000e+00, 1.400e+01, 1.400e+01,\n",
       "        9.000e+00, 1.000e+01, 6.000e+00, 7.000e+00, 1.100e+01, 8.000e+00,\n",
       "        1.600e+01, 1.400e+01, 1.300e+01, 1.200e+01, 1.200e+01, 1.300e+01,\n",
       "        8.000e+00, 5.000e+00, 1.400e+01, 1.400e+01, 1.200e+01, 1.700e+01,\n",
       "        8.000e+00, 1.300e+01, 1.300e+01, 1.200e+01, 1.800e+01, 1.100e+01,\n",
       "        1.200e+01, 2.100e+01, 1.600e+01, 1.400e+01, 1.600e+01, 1.800e+01,\n",
       "        1.000e+01, 1.700e+01, 1.300e+01, 1.700e+01, 1.100e+01, 1.600e+01,\n",
       "        8.000e+00, 9.000e+00, 1.400e+01, 1.700e+01, 1.500e+01, 1.300e+01,\n",
       "        9.000e+00, 1.000e+01, 1.100e+01, 1.200e+01, 1.400e+01, 1.100e+01,\n",
       "        1.000e+01, 1.600e+01, 1.500e+01, 1.100e+01, 1.800e+01, 1.000e+01,\n",
       "        2.600e+01, 2.500e+01, 2.000e+01, 3.100e+01, 3.300e+01, 2.700e+01,\n",
       "        3.400e+01, 3.200e+01, 2.900e+01, 2.700e+01, 2.700e+01, 2.900e+01,\n",
       "        1.300e+01, 2.600e+01, 3.300e+01, 2.900e+01, 3.200e+01, 2.700e+01,\n",
       "        9.000e+00, 1.800e+01, 2.200e+01, 2.100e+01, 2.500e+01, 1.500e+01,\n",
       "        2.300e+01, 2.100e+01, 1.300e+01, 3.300e+01, 1.000e+01, 1.800e+01,\n",
       "        2.700e+01, 1.400e+01, 2.300e+01, 1.600e+01, 1.400e+01, 1.500e+01,\n",
       "        1.900e+01, 1.400e+01, 2.400e+01, 2.100e+01, 1.600e+01, 1.700e+01,\n",
       "        3.100e+01, 3.700e+01, 4.400e+01, 2.500e+01, 2.700e+01, 2.400e+01,\n",
       "        2.700e+01, 3.200e+01, 1.900e+01, 1.800e+01, 3.200e+01, 2.300e+01,\n",
       "        2.000e+01, 1.600e+01, 1.000e+01, 2.600e+01, 2.600e+01, 1.800e+01,\n",
       "        2.000e+01, 1.700e+01, 2.700e+01, 2.000e+01, 1.700e+01, 2.000e+01,\n",
       "        2.200e+01, 2.300e+01, 2.200e+01, 1.600e+01, 2.800e+01, 1.600e+01,\n",
       "        2.500e+01, 2.400e+01, 1.900e+01, 1.000e+01, 2.100e+01, 2.300e+01,\n",
       "        2.400e+01, 2.100e+01, 1.800e+01, 2.100e+01, 1.700e+01, 2.100e+01,\n",
       "        2.500e+01, 2.200e+01, 2.200e+01, 2.500e+01, 3.400e+01, 2.700e+01,\n",
       "        2.600e+01, 2.400e+01, 3.300e+01, 2.800e+01, 2.900e+01, 2.100e+01,\n",
       "        2.700e+01, 3.100e+01, 3.000e+01, 2.900e+01, 3.900e+01, 3.100e+01,\n",
       "        3.100e+01, 3.400e+01, 2.500e+01, 2.000e+01, 3.400e+01, 4.100e+01,\n",
       "        4.200e+01, 3.800e+01, 2.800e+01, 2.800e+01, 3.300e+01, 3.800e+01,\n",
       "        4.000e+01, 5.200e+01, 4.100e+01, 3.400e+01, 5.600e+01, 5.800e+01,\n",
       "        4.600e+01, 4.800e+01, 3.700e+01, 4.300e+01, 6.600e+01, 6.000e+01,\n",
       "        5.200e+01, 4.900e+01, 5.000e+01, 5.900e+01, 4.600e+01, 4.800e+01,\n",
       "        5.600e+01, 5.900e+01, 4.900e+01, 8.200e+01, 6.400e+01, 5.400e+01,\n",
       "        6.700e+01, 6.200e+01, 6.100e+01, 4.400e+01, 4.300e+01, 4.600e+01,\n",
       "        3.800e+01, 5.000e+01, 5.400e+01, 5.000e+01, 4.200e+01, 4.000e+01,\n",
       "        3.000e+01, 4.900e+01, 3.400e+01, 4.000e+01, 3.300e+01, 3.600e+01,\n",
       "        4.100e+01, 4.400e+01, 5.100e+01, 3.900e+01, 3.300e+01, 3.400e+01,\n",
       "        3.700e+01, 4.100e+01, 4.300e+01, 4.500e+01, 4.200e+01, 3.700e+01,\n",
       "        3.200e+01, 4.100e+01, 4.000e+01, 3.200e+01, 4.600e+01, 4.100e+01,\n",
       "        4.500e+01, 3.500e+01, 3.400e+01, 3.900e+01, 4.400e+01, 4.300e+01,\n",
       "        4.100e+01, 3.900e+01, 4.100e+01, 3.600e+01, 3.700e+01, 4.900e+01,\n",
       "        3.700e+01, 3.700e+01, 3.900e+01, 3.900e+01, 4.600e+01, 4.400e+01,\n",
       "        4.000e+01, 3.500e+01, 3.500e+01, 4.800e+01, 3.500e+01, 3.400e+01,\n",
       "        4.300e+01, 4.600e+01, 4.000e+01, 3.600e+01, 4.100e+01, 4.000e+01,\n",
       "        2.700e+01, 5.000e+01, 3.000e+01, 2.800e+01, 3.000e+01, 3.200e+01,\n",
       "        3.600e+01, 3.500e+01, 2.500e+01, 2.000e+01, 3.300e+01, 3.500e+01,\n",
       "        3.000e+01, 3.000e+01, 2.500e+01, 3.400e+01, 2.800e+01, 5.300e+01,\n",
       "        2.800e+01, 2.600e+01, 2.600e+01, 3.100e+01, 5.700e+01, 3.000e+01,\n",
       "        4.300e+01, 3.200e+01, 3.400e+01, 2.300e+01, 4.500e+01, 3.500e+01,\n",
       "        2.400e+01, 2.200e+01, 5.200e+01, 3.400e+01, 4.200e+01, 3.400e+01,\n",
       "        2.900e+01, 3.400e+01, 4.100e+01, 3.700e+01, 3.300e+01, 2.400e+01,\n",
       "        2.300e+01, 2.600e+01, 4.800e+01, 2.400e+01, 3.700e+01, 2.900e+01,\n",
       "        2.800e+01, 3.100e+01, 4.000e+01, 3.600e+01, 4.000e+01, 3.000e+01,\n",
       "        4.500e+01, 3.500e+01, 3.900e+01, 3.000e+01, 3.100e+01, 3.400e+01,\n",
       "        3.500e+01, 3.800e+01, 3.900e+01, 3.300e+01, 4.300e+01, 4.000e+01,\n",
       "        3.900e+01, 3.300e+01, 4.900e+01, 4.600e+01, 4.200e+01, 5.200e+01,\n",
       "        4.200e+01, 5.600e+01, 3.700e+01, 4.700e+01, 6.100e+01, 5.000e+01,\n",
       "        4.500e+01, 4.500e+01, 3.400e+01, 5.800e+01, 5.400e+01, 4.300e+01,\n",
       "        4.000e+01, 2.800e+01, 3.500e+01, 5.200e+01, 5.100e+01, 3.200e+01,\n",
       "        4.300e+01, 4.800e+01, 4.500e+01, 5.200e+01, 3.900e+01, 3.800e+01,\n",
       "        5.800e+01, 5.300e+01, 4.200e+01, 4.900e+01, 3.600e+01, 4.900e+01,\n",
       "        4.800e+01, 6.000e+01, 5.000e+01, 5.300e+01, 5.400e+01, 4.900e+01,\n",
       "        5.700e+01, 4.400e+01, 4.800e+01, 4.300e+01, 5.300e+01, 3.700e+01,\n",
       "        7.000e+01, 5.800e+01, 5.200e+01, 4.400e+01, 5.600e+01, 6.100e+01,\n",
       "        5.700e+01, 5.300e+01, 4.600e+01, 5.300e+01, 7.100e+01, 5.400e+01,\n",
       "        4.000e+01, 5.000e+01, 5.700e+01, 5.000e+01, 6.600e+01, 5.900e+01,\n",
       "        5.200e+01, 5.200e+01, 5.700e+01, 6.600e+01, 6.200e+01, 5.300e+01,\n",
       "        4.100e+01, 6.200e+01, 6.400e+01, 5.100e+01, 5.100e+01, 4.600e+01,\n",
       "        4.600e+01, 5.100e+01, 6.200e+01, 4.200e+01, 6.200e+01, 5.800e+01,\n",
       "        5.400e+01, 8.000e+01, 4.300e+01, 5.000e+01, 4.600e+01, 4.300e+01,\n",
       "        5.600e+01, 7.400e+01, 6.700e+01, 5.500e+01, 5.400e+01, 5.700e+01,\n",
       "        8.700e+01, 4.800e+01, 7.200e+01, 4.700e+01, 6.500e+01, 7.000e+01,\n",
       "        6.200e+01, 6.200e+01, 4.800e+01, 5.300e+01, 5.500e+01, 7.900e+01,\n",
       "        5.900e+01, 7.000e+01, 4.700e+01, 5.600e+01, 7.400e+01, 5.800e+01,\n",
       "        5.300e+01, 5.500e+01, 6.200e+01, 5.500e+01, 7.100e+01, 4.800e+01,\n",
       "        5.700e+01, 5.600e+01, 6.200e+01, 6.500e+01, 5.300e+01, 6.700e+01,\n",
       "        4.800e+01, 5.800e+01, 6.200e+01, 5.500e+01, 4.700e+01, 5.000e+01,\n",
       "        5.700e+01, 5.400e+01, 8.000e+01, 4.500e+01, 5.800e+01, 5.800e+01,\n",
       "        6.000e+01, 6.700e+01, 3.600e+01, 6.000e+01, 5.300e+01, 5.800e+01,\n",
       "        4.700e+01, 5.500e+01, 5.700e+01, 6.300e+01, 4.700e+01, 6.200e+01,\n",
       "        7.300e+01, 5.400e+01, 5.100e+01, 4.900e+01, 4.300e+01, 5.500e+01,\n",
       "        6.200e+01, 5.100e+01, 5.300e+01, 3.900e+01, 6.000e+01, 5.100e+01,\n",
       "        5.000e+01, 3.300e+01, 6.200e+01, 3.200e+01, 5.800e+01, 6.700e+01,\n",
       "        5.800e+01, 4.800e+01, 4.900e+01, 5.600e+01, 4.200e+01, 5.300e+01,\n",
       "        4.000e+01, 4.700e+01, 5.500e+01, 5.200e+01, 4.100e+01, 4.500e+01,\n",
       "        4.400e+01, 4.900e+01, 5.300e+01, 4.200e+01, 3.600e+01, 4.200e+01,\n",
       "        3.900e+01, 4.700e+01, 2.800e+01, 3.600e+01, 3.500e+01, 4.200e+01,\n",
       "        3.800e+01, 4.100e+01, 2.900e+01, 4.000e+01, 3.300e+01, 3.400e+01,\n",
       "        4.700e+01, 3.300e+01, 4.200e+01, 3.200e+01, 3.700e+01, 4.800e+01,\n",
       "        3.700e+01, 3.300e+01, 4.100e+01, 5.100e+01, 4.100e+01, 4.500e+01,\n",
       "        3.700e+01, 3.400e+01, 3.400e+01, 3.800e+01, 3.800e+01, 4.500e+01,\n",
       "        5.300e+01, 2.900e+01, 2.700e+01, 3.800e+01, 4.400e+01, 2.700e+01,\n",
       "        3.100e+01, 3.000e+01, 2.400e+01, 5.200e+01, 3.800e+01, 2.900e+01,\n",
       "        2.900e+01, 2.600e+01, 4.000e+01, 3.000e+01, 3.000e+01, 2.700e+01,\n",
       "        3.300e+01, 3.400e+01, 4.200e+01, 2.900e+01, 3.700e+01, 2.400e+01,\n",
       "        2.900e+01, 3.500e+01, 3.000e+01, 2.400e+01, 3.500e+01, 2.200e+01,\n",
       "        2.500e+01, 2.400e+01, 2.700e+01, 2.600e+01, 3.300e+01, 2.000e+01,\n",
       "        3.500e+01, 2.900e+01, 3.000e+01, 2.500e+01, 2.400e+01, 2.800e+01,\n",
       "        3.000e+01, 3.100e+01, 2.800e+01, 4.000e+01, 2.300e+01, 2.800e+01,\n",
       "        2.200e+01, 2.600e+01, 2.400e+01, 2.300e+01, 3.200e+01, 2.700e+01,\n",
       "        2.500e+01, 3.100e+01, 1.900e+01, 2.700e+01, 2.700e+01, 2.400e+01,\n",
       "        1.900e+01, 2.400e+01, 2.400e+01, 1.900e+01, 2.100e+01, 1.200e+01,\n",
       "        1.500e+01, 1.400e+01, 2.000e+01, 2.700e+01, 1.400e+01, 1.300e+01,\n",
       "        1.900e+01, 1.200e+01, 2.400e+01, 2.100e+01, 1.600e+01, 1.400e+01,\n",
       "        1.600e+01, 2.200e+01, 1.800e+01, 1.700e+01, 2.000e+01, 1.500e+01,\n",
       "        2.400e+01, 1.400e+01, 1.900e+01, 1.800e+01, 9.000e+00, 9.000e+00,\n",
       "        2.200e+01, 1.600e+01, 1.800e+01, 1.300e+01, 1.300e+01, 1.400e+01,\n",
       "        1.200e+01, 1.200e+01, 1.000e+01, 1.500e+01, 1.700e+01, 1.400e+01,\n",
       "        1.100e+01, 1.300e+01, 1.600e+01, 1.500e+01, 1.400e+01, 1.900e+01,\n",
       "        1.000e+01, 1.300e+01, 1.000e+01, 1.900e+01, 1.900e+01, 1.600e+01,\n",
       "        1.200e+01, 1.000e+01, 1.700e+01, 2.300e+01, 1.300e+01, 1.700e+01,\n",
       "        7.000e+00, 1.600e+01, 2.200e+01, 4.000e+00, 1.000e+01, 7.000e+00,\n",
       "        1.000e+01, 1.200e+01, 9.000e+00, 8.000e+00, 1.300e+01, 8.000e+00,\n",
       "        6.000e+00, 1.400e+01, 1.000e+01, 1.300e+01, 1.900e+01, 1.000e+01,\n",
       "        1.400e+01, 7.000e+00, 1.300e+01, 1.500e+01, 1.100e+01, 1.100e+01,\n",
       "        9.000e+00, 1.100e+01, 9.000e+00, 1.000e+01, 1.800e+01, 8.000e+00,\n",
       "        6.000e+00, 1.100e+01, 5.000e+00, 1.300e+01, 1.000e+01, 9.000e+00,\n",
       "        1.200e+01, 9.000e+00, 6.000e+00, 9.000e+00, 1.200e+01, 8.000e+00,\n",
       "        1.000e+01, 8.000e+00, 9.000e+00, 1.000e+01, 1.200e+01, 1.600e+01,\n",
       "        1.300e+01, 1.300e+01, 1.400e+01, 6.000e+00, 1.100e+01, 1.200e+01,\n",
       "        1.000e+01, 7.000e+00, 1.000e+01, 1.000e+01, 8.000e+00, 8.000e+00,\n",
       "        5.000e+00, 1.200e+01, 8.000e+00, 6.000e+00, 8.000e+00, 3.000e+00,\n",
       "        1.200e+01, 6.000e+00, 5.000e+00, 4.000e+00, 1.100e+01, 1.000e+01,\n",
       "        1.400e+01, 8.000e+00, 5.000e+00, 8.000e+00, 1.000e+01, 6.000e+00,\n",
       "        7.000e+00, 7.000e+00, 3.000e+00, 5.000e+00, 9.000e+00, 8.000e+00,\n",
       "        6.000e+00, 9.000e+00, 5.000e+00, 9.000e+00, 8.000e+00, 8.000e+00,\n",
       "        1.000e+00, 4.000e+00, 2.000e+00, 1.100e+01, 7.000e+00, 5.000e+00,\n",
       "        9.000e+00, 3.000e+00, 5.000e+00, 5.000e+00, 4.000e+00, 8.000e+00,\n",
       "        4.000e+00, 7.000e+00, 8.000e+00, 4.000e+00, 6.000e+00, 7.000e+00,\n",
       "        8.000e+00, 1.300e+01, 8.000e+00, 8.000e+00, 4.000e+00, 8.000e+00,\n",
       "        3.000e+00, 6.000e+00, 7.000e+00, 5.000e+00, 1.000e+00, 8.000e+00,\n",
       "        6.000e+00, 0.000e+00, 4.000e+00, 3.000e+00, 7.000e+00, 7.000e+00,\n",
       "        5.000e+00, 4.000e+00, 5.000e+00, 1.000e+00, 3.000e+00, 4.000e+00,\n",
       "        1.000e+00, 1.000e+00, 2.000e+00, 2.000e+00, 4.000e+00, 2.000e+00,\n",
       "        2.000e+00, 2.000e+00, 1.000e+00, 3.000e+00, 1.000e+00, 2.000e+00,\n",
       "        4.000e+00, 0.000e+00, 4.000e+00, 3.000e+00, 0.000e+00, 1.000e+00,\n",
       "        3.000e+00, 1.000e+00, 3.000e+00, 1.000e+00, 3.000e+00, 1.000e+00,\n",
       "        1.000e+00, 1.000e+00, 3.000e+00, 1.000e+00, 1.000e+00, 0.000e+00,\n",
       "        0.000e+00, 1.000e+00, 4.000e+00, 3.000e+00, 0.000e+00, 4.000e+00,\n",
       "        0.000e+00, 0.000e+00, 1.000e+00, 1.000e+00, 4.000e+00, 0.000e+00,\n",
       "        1.000e+00, 2.000e+00, 1.000e+00, 1.000e+00, 0.000e+00, 0.000e+00,\n",
       "        0.000e+00, 1.000e+00, 0.000e+00, 0.000e+00, 0.000e+00, 0.000e+00,\n",
       "        0.000e+00, 0.000e+00, 0.000e+00, 0.000e+00, 0.000e+00, 0.000e+00,\n",
       "        0.000e+00, 0.000e+00, 0.000e+00, 1.000e+00]),\n",
       " array([0.0561   , 0.0566186, 0.0571372, ..., 0.5736628, 0.5741814,\n",
       "        0.5747   ]),\n",
       " <BarContainer object of 1000 artists>)"
      ]
     },
     "execution_count": 103,
     "metadata": {},
     "output_type": "execute_result"
    },
    {
     "data": {
      "image/png": "[encoded data removed]",
      "text/plain": [
       "<Figure size 432x288 with 1 Axes>"
      ]
     },
     "metadata": {
      "needs_background": "light"
     },
     "output_type": "display_data"
    }
   ],
   "source": [
    "plt.hist(metrics[metrics.step == 86].test_accuracy, bins=1000)"
   ]
  },
  {
   "cell_type": "code",
   "execution_count": null,
   "metadata": {},
   "outputs": [],
   "source": []
  },
  {
   "cell_type": "code",
   "execution_count": null,
   "metadata": {},
   "outputs": [],
   "source": []
  }
 ],
 "metadata": {
  "kernelspec": {
   "display_name": "Python 3",
   "language": "python",
   "name": "python3"
  },
  "language_info": {
   "codemirror_mode": {
    "name": "ipython",
    "version": 3
   },
   "file_extension": ".py",
   "mimetype": "text/x-python",
   "name": "python",
   "nbconvert_exporter": "python",
   "pygments_lexer": "ipython3",
   "version": "3.9.1"
  }
 },
 "nbformat": 4,
 "nbformat_minor": 4
}
